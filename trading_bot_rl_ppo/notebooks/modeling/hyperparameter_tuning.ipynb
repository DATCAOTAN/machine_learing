{
 "cells": [
  {
   "cell_type": "code",
   "execution_count": null,
   "metadata": {},
   "outputs": [
    {
     "name": "stderr",
     "output_type": "stream",
     "text": [
      "c:\\Users\\nguye\\OneDrive\\documents\\python\\trading_bot_rl_ppo\\trading_env\\Lib\\site-packages\\tqdm\\auto.py:21: TqdmWarning: IProgress not found. Please update jupyter and ipywidgets. See https://ipywidgets.readthedocs.io/en/stable/user_install.html\n",
      "  from .autonotebook import tqdm as notebook_tqdm\n",
      "[I 2024-12-10 14:15:01,677] A new study created in memory with name: no-name-14f6cfd3-c64b-45ba-a185-8392d1617187\n"
     ]
    },
    {
     "name": "stdout",
     "output_type": "stream",
     "text": [
      "Starting hyperparameter optimization...\n"
     ]
    },
    {
     "name": "stderr",
     "output_type": "stream",
     "text": [
      "C:\\Users\\nguye\\AppData\\Local\\Temp\\ipykernel_18252\\1595245507.py:23: FutureWarning: suggest_loguniform has been deprecated in v3.0.0. This feature will be removed in v6.0.0. See https://github.com/optuna/optuna/releases/tag/v3.0.0. Use suggest_float(..., log=True) instead.\n",
      "  gamma = trial.suggest_loguniform('gamma', 0.95, 0.999)\n",
      "C:\\Users\\nguye\\AppData\\Local\\Temp\\ipykernel_18252\\1595245507.py:24: FutureWarning: suggest_loguniform has been deprecated in v3.0.0. This feature will be removed in v6.0.0. See https://github.com/optuna/optuna/releases/tag/v3.0.0. Use suggest_float(..., log=True) instead.\n",
      "  learning_rate = trial.suggest_loguniform('learning_rate', 1e-5, 1e-3)\n",
      "C:\\Users\\nguye\\AppData\\Local\\Temp\\ipykernel_18252\\1595245507.py:25: FutureWarning: suggest_uniform has been deprecated in v3.0.0. This feature will be removed in v6.0.0. See https://github.com/optuna/optuna/releases/tag/v3.0.0. Use suggest_float instead.\n",
      "  clip_range = trial.suggest_uniform('clip_range', 0.1, 0.3)\n",
      "C:\\Users\\nguye\\AppData\\Local\\Temp\\ipykernel_18252\\1595245507.py:26: FutureWarning: suggest_uniform has been deprecated in v3.0.0. This feature will be removed in v6.0.0. See https://github.com/optuna/optuna/releases/tag/v3.0.0. Use suggest_float instead.\n",
      "  gae_lambda = trial.suggest_uniform('gae_lambda', 0.9, 0.95)\n",
      "C:\\Users\\nguye\\AppData\\Local\\Temp\\ipykernel_18252\\1595245507.py:27: FutureWarning: suggest_loguniform has been deprecated in v3.0.0. This feature will be removed in v6.0.0. See https://github.com/optuna/optuna/releases/tag/v3.0.0. Use suggest_float(..., log=True) instead.\n",
      "  ent_coef = trial.suggest_loguniform('ent_coef', 1e-8, 1e-2)\n",
      "C:\\Users\\nguye\\AppData\\Local\\Temp\\ipykernel_18252\\1595245507.py:28: FutureWarning: suggest_uniform has been deprecated in v3.0.0. This feature will be removed in v6.0.0. See https://github.com/optuna/optuna/releases/tag/v3.0.0. Use suggest_float instead.\n",
      "  vf_coef = trial.suggest_uniform('vf_coef', 0.1, 0.9)\n",
      "[I 2024-12-10 14:15:44,507] Trial 0 finished with value: 0.0 and parameters: {'n_steps': 2048, 'gamma': 0.9797733615331293, 'learning_rate': 2.9479096437114144e-05, 'clip_range': 0.1436051657123369, 'gae_lambda': 0.9079628517578694, 'ent_coef': 8.722763836081246e-05, 'vf_coef': 0.20723400259777877}. Best is trial 0 with value: 0.0.\n",
      "C:\\Users\\nguye\\AppData\\Local\\Temp\\ipykernel_18252\\1595245507.py:23: FutureWarning: suggest_loguniform has been deprecated in v3.0.0. This feature will be removed in v6.0.0. See https://github.com/optuna/optuna/releases/tag/v3.0.0. Use suggest_float(..., log=True) instead.\n",
      "  gamma = trial.suggest_loguniform('gamma', 0.95, 0.999)\n",
      "C:\\Users\\nguye\\AppData\\Local\\Temp\\ipykernel_18252\\1595245507.py:24: FutureWarning: suggest_loguniform has been deprecated in v3.0.0. This feature will be removed in v6.0.0. See https://github.com/optuna/optuna/releases/tag/v3.0.0. Use suggest_float(..., log=True) instead.\n",
      "  learning_rate = trial.suggest_loguniform('learning_rate', 1e-5, 1e-3)\n",
      "C:\\Users\\nguye\\AppData\\Local\\Temp\\ipykernel_18252\\1595245507.py:25: FutureWarning: suggest_uniform has been deprecated in v3.0.0. This feature will be removed in v6.0.0. See https://github.com/optuna/optuna/releases/tag/v3.0.0. Use suggest_float instead.\n",
      "  clip_range = trial.suggest_uniform('clip_range', 0.1, 0.3)\n",
      "C:\\Users\\nguye\\AppData\\Local\\Temp\\ipykernel_18252\\1595245507.py:26: FutureWarning: suggest_uniform has been deprecated in v3.0.0. This feature will be removed in v6.0.0. See https://github.com/optuna/optuna/releases/tag/v3.0.0. Use suggest_float instead.\n",
      "  gae_lambda = trial.suggest_uniform('gae_lambda', 0.9, 0.95)\n",
      "C:\\Users\\nguye\\AppData\\Local\\Temp\\ipykernel_18252\\1595245507.py:27: FutureWarning: suggest_loguniform has been deprecated in v3.0.0. This feature will be removed in v6.0.0. See https://github.com/optuna/optuna/releases/tag/v3.0.0. Use suggest_float(..., log=True) instead.\n",
      "  ent_coef = trial.suggest_loguniform('ent_coef', 1e-8, 1e-2)\n",
      "C:\\Users\\nguye\\AppData\\Local\\Temp\\ipykernel_18252\\1595245507.py:28: FutureWarning: suggest_uniform has been deprecated in v3.0.0. This feature will be removed in v6.0.0. See https://github.com/optuna/optuna/releases/tag/v3.0.0. Use suggest_float instead.\n",
      "  vf_coef = trial.suggest_uniform('vf_coef', 0.1, 0.9)\n",
      "[I 2024-12-10 14:16:18,737] Trial 1 finished with value: 0.0 and parameters: {'n_steps': 512, 'gamma': 0.9951291012698094, 'learning_rate': 8.402658845002982e-05, 'clip_range': 0.10064898159977508, 'gae_lambda': 0.915853708119465, 'ent_coef': 1.38265131862688e-06, 'vf_coef': 0.38790550636747}. Best is trial 0 with value: 0.0.\n",
      "[I 2024-12-10 14:16:52,873] Trial 2 finished with value: 0.0 and parameters: {'n_steps': 512, 'gamma': 0.9914608546543456, 'learning_rate': 2.385902396135502e-05, 'clip_range': 0.2575291184912847, 'gae_lambda': 0.9080352192559369, 'ent_coef': 8.272050532079892e-06, 'vf_coef': 0.7393697541185302}. Best is trial 0 with value: 0.0.\n",
      "[I 2024-12-10 14:17:27,664] Trial 3 finished with value: 0.0 and parameters: {'n_steps': 1024, 'gamma': 0.9694748486400373, 'learning_rate': 0.00019755114024749525, 'clip_range': 0.20817764290636154, 'gae_lambda': 0.9019892552431806, 'ent_coef': 3.3185649531933295e-06, 'vf_coef': 0.5485466634191325}. Best is trial 0 with value: 0.0.\n",
      "[I 2024-12-10 14:18:13,573] Trial 4 finished with value: 0.0 and parameters: {'n_steps': 2048, 'gamma': 0.9764203312271464, 'learning_rate': 1.0711977666585352e-05, 'clip_range': 0.11922887888740193, 'gae_lambda': 0.9137123972177984, 'ent_coef': 1.6714520404446728e-05, 'vf_coef': 0.7856704500705256}. Best is trial 0 with value: 0.0.\n"
     ]
    },
    {
     "name": "stdout",
     "output_type": "stream",
     "text": [
      "Best hyperparameters:\n",
      "{'n_steps': 2048, 'gamma': 0.9797733615331293, 'learning_rate': 2.9479096437114144e-05, 'clip_range': 0.1436051657123369, 'gae_lambda': 0.9079628517578694, 'ent_coef': 8.722763836081246e-05, 'vf_coef': 0.20723400259777877}\n"
     ]
    }
   ],
   "source": [
    "import optuna\n",
    "from stable_baselines3 import PPO\n",
    "from stable_baselines3.common.vec_env import DummyVecEnv\n",
    "import pandas as pd\n",
    "import sys\n",
    "import os\n",
    "current_working_dir = os.getcwd()\n",
    "project_path = os.path.abspath(os.path.join(current_working_dir, \"..\"))\n",
    "project_path = project_path.replace(\"notebooks\", \"scripts\")\n",
    "print(project_path)\n",
    "\n",
    "if project_path not in sys.path:\n",
    "    sys.path.append(project_path)\n",
    "\n",
    "from environment import TradingEnv\n",
    "print(\"Imported TradingEnv successfully.\")\n",
    "\n",
    "\n",
    "# Function to optimize PPO hyperparameters\n",
    "def optimize_ppo(trial, data):\n",
    "    # Tối ưu hóa các siêu tham số của PPO\n",
    "    n_steps = trial.suggest_categorical('n_steps', [512, 1024, 2048])\n",
    "    gamma = trial.suggest_loguniform('gamma', 0.95, 0.999)\n",
    "    learning_rate = trial.suggest_loguniform('learning_rate', 1e-5, 1e-3)\n",
    "    clip_range = trial.suggest_uniform('clip_range', 0.1, 0.3)\n",
    "    gae_lambda = trial.suggest_uniform('gae_lambda', 0.9, 0.95)\n",
    "    ent_coef = trial.suggest_loguniform('ent_coef', 1e-8, 1e-2)\n",
    "    vf_coef = trial.suggest_uniform('vf_coef', 0.1, 0.9)\n",
    "\n",
    "    # Create the trading environment\n",
    "    env = DummyVecEnv([lambda: TradingEnv(data)])\n",
    "\n",
    "    # Train PPO model with trial-specific hyperparameters\n",
    "    model = PPO(\n",
    "        \"MlpPolicy\",\n",
    "        env,\n",
    "        learning_rate=learning_rate,\n",
    "        n_steps=n_steps,\n",
    "        gamma=gamma,\n",
    "        clip_range=clip_range,\n",
    "        gae_lambda=gae_lambda,\n",
    "        ent_coef=ent_coef,\n",
    "        vf_coef=vf_coef,\n",
    "        verbose=0,\n",
    "    )\n",
    "    \n",
    "    # Train the model for a short duration to evaluate its performance\n",
    "    model.learn(total_timesteps=5000)\n",
    "\n",
    "    # Evaluate the model by calculating a performance metric\n",
    "    obs = env.reset()\n",
    "    total_reward = 0\n",
    "    for _ in range(len(data) // 2):  # Evaluate on half the dataset\n",
    "        action, _ = model.predict(obs, deterministic=True)\n",
    "        obs, reward, done, info = env.step(action)  # Updated here to 4 values\n",
    "        total_reward += reward\n",
    "        if done:\n",
    "            obs = env.reset()\n",
    "    \n",
    "    # Return the performance metric (higher is better)\n",
    "    return total_reward\n",
    "\n",
    "\n",
    "# Define dataset and load data\n",
    "\n",
    "index = current_working_dir.find(\"trading_bot_rl_ppo\")\n",
    "\n",
    "# Cắt chuỗi đến vị trí kết thúc của \"trading_bot_rl_ppo\"\n",
    "if index != -1:\n",
    "    base_path = current_working_dir[:index + len(\"trading_bot_rl_ppo\")]\n",
    "else:\n",
    "    base_path = current_working_dir  # Nếu không tìm thấy, giữ nguyên\n",
    "path_data=r\"data\\processed\\du_lieu_phan_tich\\2015\\du_lieu_vang_phan_tich_2015_01.csv\"\n",
    "data_path = os.path.join(base_path,path_data)\n",
    "data = pd.read_csv(data_path)\n",
    "\n",
    "# Optimize hyperparameters using Optuna\n",
    "print(\"Starting hyperparameter optimization...\")\n",
    "study = optuna.create_study(direction=\"maximize\")\n",
    "study.optimize(lambda trial: optimize_ppo(trial, data), n_trials=5)\n",
    "\n",
    "# Print the best hyperparameters found\n",
    "print(\"Best hyperparameters:\")\n",
    "print(study.best_params)\n"
   ]
  }
 ],
 "metadata": {
  "kernelspec": {
   "display_name": "trading_env",
   "language": "python",
   "name": "python3"
  },
  "language_info": {
   "codemirror_mode": {
    "name": "ipython",
    "version": 3
   },
   "file_extension": ".py",
   "mimetype": "text/x-python",
   "name": "python",
   "nbconvert_exporter": "python",
   "pygments_lexer": "ipython3",
   "version": "3.12.5"
  }
 },
 "nbformat": 4,
 "nbformat_minor": 2
}
